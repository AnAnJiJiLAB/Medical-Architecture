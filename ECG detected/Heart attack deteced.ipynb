{
 "cells": [
  {
   "cell_type": "code",
   "execution_count": 23,
   "metadata": {},
   "outputs": [],
   "source": [
    "import pyodbc\n",
    "import numpy as np\n",
    "import os\n",
    "import pandas as pd\n",
    "import scipy.signal as signal\n",
    "import math as math\n",
    "from sklearn.preprocessing import MinMaxScaler\n",
    "from keras.models import load_model\n",
    "import threading as thd\n",
    "import time\n",
    "import warnings"
   ]
  },
  {
   "cell_type": "code",
   "execution_count": 18,
   "metadata": {},
   "outputs": [],
   "source": [
    "anterior = load_model('C:/Users/GPU/Desktop/Model/model_final/model_anterior_2.h5')\n",
    "antero_lateral = load_model('C:/Users/GPU/Desktop/Model/model_final/model_antero-lateral_2.h5')\n",
    "antero_septal = load_model('C:/Users/GPU/Desktop/Model/model_final/model_antero-septal_2.h5')\n",
    "inferior = load_model('C:/Users/GPU/Desktop/Model/model_final/model_inferior_2.h5')\n",
    "infero_lateral = load_model('C:/Users/GPU/Desktop/Model/model_final/model_infero-lateral_2.h5')"
   ]
  },
  {
   "cell_type": "code",
   "execution_count": 3,
   "metadata": {},
   "outputs": [
    {
     "name": "stdout",
     "output_type": "stream",
     "text": [
      "<pyodbc.Cursor object at 0x0000022147529510>\n"
     ]
    }
   ],
   "source": [
    "cnxn = pyodbc.connect('DRIVER={SQL Server};SERVER=120.124.84.221;DATABASE=TestECG;UID=GPU;PWD=sql')\n",
    "cursor = cnxn.cursor()\n",
    "print(cursor)"
   ]
  },
  {
   "cell_type": "code",
   "execution_count": 4,
   "metadata": {},
   "outputs": [
    {
     "name": "stdout",
     "output_type": "stream",
     "text": [
      "<pyodbc.Cursor object at 0x00000221475295D0>\n"
     ]
    }
   ],
   "source": [
    "#cnxn = pyodbc.connect('DRIVER={SQL Server};SERVER=120.124.84.221;DATABASE=TestECG;UID=GPU;PWD=sql')\n",
    "cnxn_220 = pyodbc.connect('DRIVER={SQL Server};SERVER=120.124.84.220;DATABASE=TestECG;UID=sa;PWD=sql')\n",
    "cursor_220  = cnxn_220 .cursor()\n",
    "print(cursor_220)"
   ]
  },
  {
   "cell_type": "code",
   "execution_count": 39,
   "metadata": {
    "collapsed": true
   },
   "outputs": [],
   "source": [
    "#hos_id = '0000000001'\n",
    "hos_id = '0000000003'\n",
    "\n",
    "#ID = 'james20718'"
   ]
  },
  {
   "cell_type": "code",
   "execution_count": 24,
   "metadata": {
    "collapsed": true
   },
   "outputs": [],
   "source": [
    "def Analysis_Data(hos_id):\n",
    "    warnings.filterwarnings(\"ignore\")\n",
    "    cursor.execute(\"select TOP 60000 i,ii,iii,avr,avl,avf,v1,v2,v3,v4,v5,v6 from patient order by seq ASC\")\n",
    "    row_2 = cursor.fetchall()\n",
    "    \n",
    "    cursor.execute(\" select TOP 60000 i,ii,iii,avr,avl,avf,v1,v2,v3,v4,v5,v6 from patient2 where hos_id= \"+hos_id+\"and status IS NULL and status_accept IS NULL order by seq2 ASC\")\n",
    "    row = cursor.fetchall()\n",
    "    \n",
    "    cursor.execute(\"select distinct ID , Unique_Value from patient2 where hos_id= '\"+hos_id+\"'and status IS NULL and status_accept IS NULL\") \n",
    "    ID = cursor.fetchall()\n",
    "    ID = np.asarray(ID) #List 轉換\n",
    "    #print(ID)\n",
    "    if ID != []:\n",
    "        ID_1 = ID[0][0]\n",
    "        print(ID)\n",
    "        s = ID[0][1]\n",
    "        #print(s)\n",
    "    else :\n",
    "        print('please check id ')\n",
    "        return\n",
    "    row3 = []\n",
    "    row3.append(row)\n",
    "    row3.append(row_2)\n",
    "\n",
    "    \n",
    "    all_ecg = []\n",
    "\n",
    "\n",
    "    for i in range(0,2):\n",
    "        Detect_ecg = np.asarray(row3[i])\n",
    "        Detect_ecg = Detect_ecg.astype(str).astype(float)\n",
    "        #all_ecg = []\n",
    "        if(len(Detect_ecg)!=60000):   \n",
    "            print(\"----Part1 -not d60000 fail\")\n",
    "            #return\n",
    "        else:\n",
    "            Detect_ecg=Detect_ecg[:].transpose()\n",
    "        t_ecg = []\n",
    "        for num in range(0,len(Detect_ecg)):\n",
    "            fs = 250\n",
    "            ecg = np.ravel(Detect_ecg[num])\n",
    "\n",
    "            buffer_plot =[]\n",
    "\n",
    "            state = 0 \n",
    "            buffer_base=[]\n",
    "            window = round(fs/25)\n",
    "\n",
    "            ecg = ecg[:]\n",
    "            ecg_raw =ecg\n",
    "            f1=0.5\n",
    "            f2=45\n",
    "            Wn=np.array([f1,f2])*1/fs\n",
    "            N = 3\n",
    "            a,b = signal.butter(N,Wn, 'bandpass') \n",
    "            ecg = signal.filtfilt(a,b,ecg)\n",
    "            ecg=signal.resample(ecg, 2000, t=None, axis=0, window=None)\n",
    "            t_ecg.append(ecg)\n",
    "\n",
    "        all_ecg.append(np.ravel(t_ecg).T)\n",
    "\n",
    "        test_Data = np.asarray(all_ecg)\n",
    "    #print(test_Data.shape,'-----')\n",
    "\n",
    "    scaler = MinMaxScaler(feature_range=(0, 1))\n",
    "\n",
    "    scaled_test_Data = scaler.fit_transform(test_Data)\n",
    "\n",
    "    reshape_scaled_test_Data =scaled_test_Data.reshape(scaled_test_Data.shape[0],24000,1).astype('float32')\n",
    "    #print(reshape_scaled_test_Data)\n",
    "\n",
    "    anterior_pb = anterior.predict_proba(reshape_scaled_test_Data,verbose=0)\n",
    "    antero_lateral_pb = antero_lateral.predict_proba(reshape_scaled_test_Data,verbose=0)\n",
    "    antero_septal_pb = antero_septal.predict_proba(reshape_scaled_test_Data,verbose=0)\n",
    "    inferior_pb = inferior.predict_proba(reshape_scaled_test_Data,verbose=0)\n",
    "    infero_lateral_pb = infero_lateral.predict_proba(reshape_scaled_test_Data,verbose=0)\n",
    "\n",
    "    #anterior_pb_c = anterior.predict_classes(reshape_scaled_test_Data,verbose=0)\n",
    "    #antero_lateral_pb_c = antero_lateral.predict_classes(reshape_scaled_test_Data,verbose=0)\n",
    "    #antero_septal_pb_c = antero_septal.predict_classes(reshape_scaled_test_Data,verbose=0)\n",
    "    #inferior_pb_c = inferior.predict_classes(reshape_scaled_test_Data,verbose=0)\n",
    "    #infero_lateral_pb_c = infero_lateral.predict_classes(reshape_scaled_test_Data,verbose=0)\n",
    "    #model_total = anterior_pb_c[0]+antero_lateral_pb_c[0]+antero_septal_pb_c[0]+inferior_pb_c[0]+infero_lateral_pb_c[0]\n",
    "    #print(model_total)\n",
    "    # Sick\n",
    "    #total_Sick = (anterior_pb[0][0]+antero_lateral_pb[0][0]+antero_septal_pb[0][0]+inferior_pb[0][0]+infero_lateral_pb[0][0])\n",
    "    anterior_percent= (\"%.2f\" %((anterior_pb[0][0])*100))\n",
    "    antero_lateral_percent= (\"%.2f\" %((antero_lateral_pb[0][0])*100))\n",
    "    antero_septal_percent= (\"%.2f\" %((antero_septal_pb[0][0])*100))\n",
    "    inferior_percent= (\"%.2f\" %((inferior_pb[0][0])*100))\n",
    "    infero_lateral_percent= (\"%.2f\" %((infero_lateral_pb[0][0])*100))\n",
    "\n",
    "\n",
    "\n",
    "    Analysis_Data = [anterior_percent,\n",
    "            antero_lateral_percent,\n",
    "            antero_septal_percent,\n",
    "            inferior_percent,\n",
    "            infero_lateral_percent]\n",
    "    #print(Analysis_Data)\n",
    "    Analysis_Data_Covert = np.array(Analysis_Data)\n",
    "\n",
    "    try:\n",
    "        if((anterior_pb[0][0]>anterior_pb[0][1])or(antero_lateral_pb[0][0]>antero_lateral_pb[0][1])or(antero_septal_pb[0][0]>antero_septal_pb[0][1])or(inferior_pb[0][0]>inferior_pb[0][1])or(infero_lateral_pb[0][0]>infero_lateral_pb[0][1])): \n",
    "        #if((5-model_total)<=3):\n",
    "            cursor.execute(\"UPDATE  TOP(60000)  patient2 SET status = '0',status_accept = '0' Where hos_id= \"+hos_id+\" and status IS NULL \").commit()\n",
    "            status = '0'\n",
    "            #cursor.execute(\"INSERT INTO Analysis_results(hos_id,anterior_pb,antero_lateral_pb,antero_septal_pb,inferior_pb,infero_lateral_pb,status,status_accept)\"+ \n",
    "                           #\"VALUES('\"+hos_id+\"','\"+anterior_percent+\"','\"+antero_lateral_percent+\"','\"+antero_septal_percent+\"','\"+inferior_percent+\"','\"+infero_lateral_percent+\"','\"+status+\"','\"+status+\"')\").commit()\n",
    "           \n",
    "            print(\"Positive\");\n",
    "            #------\n",
    "            #少一寫一個 條件 Analysis_results 如果is null 要初始值 \n",
    "            #------\n",
    "        \n",
    "            cursor_220.execute(\"INSERT INTO Analysis_results(Unique_Value, hos_id,ID,anterior_pb,antero_lateral_pb,antero_septal_pb,inferior_pb,infero_lateral_pb,status,status_accept)\"+ \n",
    "                           \"VALUES('\"+s+\"','\"+hos_id+\"','\"+ID_1+\"','\"+anterior_percent+\"','\"+antero_lateral_percent+\"','\"+antero_septal_percent+\"','\"+inferior_percent+\"','\"+infero_lateral_percent+\"','\"+status+\"','\"+status+\"')\").commit()\n",
    "    except NameError as Error:\n",
    "                cursor.rollback()\n",
    "\n",
    "    try:\n",
    "        #if((5-model_total)>3):\n",
    "        if((anterior_pb[0][0]<anterior_pb[0][1])and(antero_lateral_pb[0][0]<antero_lateral_pb[0][1])and(antero_septal_pb[0][0]<antero_septal_pb[0][1])and(inferior_pb[0][0]<inferior_pb[0][1])and(infero_lateral_pb[0][0]<infero_lateral_pb[0][1])):\n",
    "            cursor.execute(\"UPDATE  TOP(60000)  patient2 SET status = '1', status_accept = '5' Where hos_id= \"+hos_id+\" and status IS NULL \").commit()\n",
    "            status ='1'\n",
    "\n",
    "           #cursor.execute(\"INSERT INTO Analysis_results(hos_id,anterior_pb,antero_lateral_pb,antero_septal_pb,inferior_pb,infero_lateral_pb,status,status_accept)\"+ \n",
    "                           #\"VALUES('\"+hos_id+\"','\"+anterior_percent+\"','\"+antero_lateral_percent+\"','\"+antero_septal_percent+\"','\"+inferior_percent+\"','\"+infero_lateral_percent+\"','\"+status+\"','\"+status+\"')\").commit()\n",
    "            print(\"Negative\");\n",
    "            cursor_220.execute(\"INSERT INTO Analysis_results(Unique_Value,hos_id,ID,anterior_pb,antero_lateral_pb,antero_septal_pb,inferior_pb,infero_lateral_pb,status,status_accept)\"+ \n",
    "                           \"VALUES('\"+s+\"','\"+hos_id+\"','\"+ID_1+\"','\"+anterior_percent+\"','\"+antero_lateral_percent+\"','\"+antero_septal_percent+\"','\"+inferior_percent+\"','\"+infero_lateral_percent+\"','\"+status+\"','\"+status+\"')\").commit()\n",
    "    except NameError as Error:\n",
    "                cursor.rollback()\n",
    "\n",
    "\n",
    "    return Analysis_Data_Covert\n",
    "    \n",
    "    "
   ]
  },
  {
   "cell_type": "code",
   "execution_count": 40,
   "metadata": {},
   "outputs": [
    {
     "name": "stdout",
     "output_type": "stream",
     "text": [
      "[['Cindy12345' '0000000002']]\n",
      "Negative\n",
      "['0.01' '0.04' '0.31' '0.00' '0.00']\n"
     ]
    }
   ],
   "source": [
    "ans= Analysis_Data(hos_id)\n",
    "print(ans)"
   ]
  },
  {
   "cell_type": "code",
   "execution_count": null,
   "metadata": {
    "collapsed": true
   },
   "outputs": [],
   "source": [
    "#Health Care Data Center "
   ]
  },
  {
   "cell_type": "code",
   "execution_count": 14,
   "metadata": {
    "collapsed": true
   },
   "outputs": [],
   "source": [
    "#def fn():\n",
    " #   a = Analysis_Data(hos_id)\n",
    "  #  print(a)\n",
    "   # thd.Timer(10,fn).start()\n",
    "#fn()"
   ]
  },
  {
   "cell_type": "code",
   "execution_count": null,
   "metadata": {
    "collapsed": true
   },
   "outputs": [],
   "source": []
  }
 ],
 "metadata": {
  "kernelspec": {
   "display_name": "Python 3",
   "language": "python",
   "name": "python3"
  },
  "language_info": {
   "codemirror_mode": {
    "name": "ipython",
    "version": 3
   },
   "file_extension": ".py",
   "mimetype": "text/x-python",
   "name": "python",
   "nbconvert_exporter": "python",
   "pygments_lexer": "ipython3",
   "version": "3.5.4"
  }
 },
 "nbformat": 4,
 "nbformat_minor": 2
}
